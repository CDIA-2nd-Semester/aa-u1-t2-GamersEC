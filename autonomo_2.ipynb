{
 "cells": [
  {
   "metadata": {},
   "cell_type": "markdown",
   "source": [
    "- Nombre: Marcus Alexander Mayorga Martínez\n",
    "- Fecha: 8 de mayo del 2025"
   ],
   "id": "2ae6b94e2135aae9"
  },
  {
   "metadata": {},
   "cell_type": "markdown",
   "source": "Importar las librerías necesarias",
   "id": "af795085f9884ed4"
  },
  {
   "metadata": {
    "ExecuteTime": {
     "end_time": "2025-05-03T19:53:45.249788Z",
     "start_time": "2025-05-03T19:53:45.245113Z"
    }
   },
   "cell_type": "code",
   "source": "from abc import ABC, abstractmethod",
   "id": "b3eaa5b52d8b57f7",
   "outputs": [],
   "execution_count": 35
  },
  {
   "metadata": {},
   "cell_type": "markdown",
   "source": "Clase abstracta Vehículo",
   "id": "2ff627bd1a61da60"
  },
  {
   "metadata": {
    "ExecuteTime": {
     "end_time": "2025-05-03T19:53:45.276202Z",
     "start_time": "2025-05-03T19:53:45.269901Z"
    }
   },
   "cell_type": "code",
   "source": [
    "class Vehiculo(ABC):\n",
    "    \"\"\"Clase abstracta base para todos los vehículos\"\"\"\n",
    "\n",
    "    def __init__(self, identificador: str, modelo: str, velocidad_maxima: float, capacidad_carga: float):\n",
    "        self._id = identificador\n",
    "        self._modelo = modelo\n",
    "        self._velocidad_maxima = velocidad_maxima\n",
    "        self._capacidad_carga = capacidad_carga\n",
    "        self._velocidad_actual = 0\n",
    "        self._estrategia = None\n",
    "\n",
    "    #Getters\n",
    "    @property\n",
    "    def modelo(self):\n",
    "        return self._modelo\n",
    "\n",
    "    @property\n",
    "    def velocidad_maxima(self):\n",
    "        return self._velocidad_maxima\n",
    "\n",
    "    @property\n",
    "    def velocidad_actual(self):\n",
    "        return self._velocidad_actual\n",
    "\n",
    "    #Métodos Base\n",
    "    def set_estrategia(self, estrategia):\n",
    "        self._estrategia = estrategia\n",
    "\n",
    "    def ejecutar_estrategia(self):\n",
    "        if self._estrategia:\n",
    "            self._estrategia.conducir(self)\n",
    "\n",
    "    #Métodos Abstractos\n",
    "    @abstractmethod\n",
    "    def acelerar(self):\n",
    "        pass\n",
    "\n",
    "    @abstractmethod\n",
    "    def frenar(self):\n",
    "        pass\n",
    "\n",
    "    @abstractmethod\n",
    "    def informar_estado(self):\n",
    "        pass\n",
    "\n",
    "    #Sobrecarga Operadores\n",
    "    def __eq__(self, other):\n",
    "        if not isinstance(other, Vehiculo):\n",
    "            return False\n",
    "        return (self.modelo == other.modelo and\n",
    "                self.velocidad_maxima == other.velocidad_maxima)\n"
   ],
   "id": "3bca2cedcc769a8",
   "outputs": [],
   "execution_count": 36
  },
  {
   "metadata": {},
   "cell_type": "markdown",
   "source": "SUBCLASES DE VEHÍCULOS",
   "id": "49da6e712bc5b7f0"
  },
  {
   "metadata": {
    "ExecuteTime": {
     "end_time": "2025-05-03T19:53:45.297103Z",
     "start_time": "2025-05-03T19:53:45.290216Z"
    }
   },
   "cell_type": "code",
   "source": [
    "class Automovil(Vehiculo):\n",
    "    def acelerar(self):\n",
    "        self._velocidad_actual = min(self._velocidad_actual + 10, self._velocidad_maxima)\n",
    "\n",
    "    def frenar(self):\n",
    "        self._velocidad_actual = max(self._velocidad_actual - 15, 0)\n",
    "\n",
    "    def informar_estado(self):\n",
    "        print(f\"Automóvil {self._id}: {self._velocidad_actual} km/h\")\n",
    "\n",
    "class Camion(Vehiculo):\n",
    "    def __init__(self, *args):\n",
    "        super().__init__(*args)\n",
    "        self._remolques = 0\n",
    "\n",
    "    def engranar_remolque(self):\n",
    "        self._remolques += 1\n",
    "\n",
    "    def acelerar(self):\n",
    "        self._velocidad_actual = min(self._velocidad_actual + 5, self._velocidad_maxima)\n",
    "\n",
    "    def frenar(self):\n",
    "        self._velocidad_actual = max(self._velocidad_actual - 20, 0)\n",
    "\n",
    "    def informar_estado(self):\n",
    "        print(f\"Camión {self._id}: {self._remolques} remolques | {self._velocidad_actual} km/h\")\n",
    "\n",
    "class Motocicleta(Vehiculo):\n",
    "    def acelerar(self):\n",
    "        self._velocidad_actual = min(self._velocidad_actual + 15, self._velocidad_maxima)\n",
    "\n",
    "    def frenar(self):\n",
    "        self._velocidad_actual = max(self._velocidad_actual - 10, 0)\n",
    "\n",
    "    def realizar_maniobra_evasiva(self):\n",
    "        print(f\"Motocicleta {self._id} realiza maniobra evasiva!\")\n",
    "        self._velocidad_actual = max(self._velocidad_actual - 30, 0)\n",
    "\n",
    "    def informar_estado(self):\n",
    "        print(f\"Motocicleta {self._id}: {self._velocidad_actual} km/h\")"
   ],
   "id": "5eb908b3d5d9ecf",
   "outputs": [],
   "execution_count": 37
  },
  {
   "metadata": {},
   "cell_type": "markdown",
   "source": "STRATEGY PATTERN",
   "id": "b833de011a6353e"
  },
  {
   "metadata": {
    "ExecuteTime": {
     "end_time": "2025-05-03T19:53:45.321027Z",
     "start_time": "2025-05-03T19:53:45.314231Z"
    }
   },
   "cell_type": "code",
   "source": [
    "class EstrategiaConduccion(ABC):\n",
    "    @abstractmethod\n",
    "    def conducir(self, vehiculo: Vehiculo):\n",
    "        pass\n",
    "\n",
    "class ConduccionEconomica(EstrategiaConduccion):\n",
    "    def conducir(self, vehiculo):\n",
    "        vehiculo.acelerar()\n",
    "        if vehiculo.velocidad_actual > 60:\n",
    "            vehiculo.frenar()\n",
    "\n",
    "class ConduccionDeportiva(EstrategiaConduccion):\n",
    "    def conducir(self, vehiculo):\n",
    "        vehiculo.acelerar()\n",
    "        vehiculo.acelerar()\n",
    "\n",
    "\n",
    "# Conducción de emergencia (Reto adicional)\n",
    "class ConduccionEmergencia(EstrategiaConduccion):\n",
    "    def conducir(self, vehiculo):\n",
    "        # Permitir exceder velocidad máxima en un 20% solo durante emergencia\n",
    "        limite_emergencia = vehiculo.velocidad_maxima * 1.2\n",
    "        incremento = 30  # Acelera rápidamente\n",
    "        nueva_velocidad = vehiculo._velocidad_actual + incremento\n",
    "        vehiculo._velocidad_actual = min(nueva_velocidad, limite_emergencia)\n",
    "        print(f\"[EMERGENCIA] {vehiculo.modelo} alcanza {vehiculo._velocidad_actual:.1f} km/h\")"
   ],
   "id": "a90efcd019e5e783",
   "outputs": [],
   "execution_count": 38
  },
  {
   "metadata": {},
   "cell_type": "markdown",
   "source": "DECORATOR PATTERN",
   "id": "e44d82e9876691b5"
  },
  {
   "metadata": {
    "ExecuteTime": {
     "end_time": "2025-05-03T19:53:45.344368Z",
     "start_time": "2025-05-03T19:53:45.336392Z"
    }
   },
   "cell_type": "code",
   "source": [
    "class VehiculoDecorator(Vehiculo):\n",
    "    def __init__(self, vehiculo: Vehiculo):\n",
    "        self._vehiculo = vehiculo\n",
    "\n",
    "    @property\n",
    "    def modelo(self):\n",
    "        return self._vehiculo.modelo\n",
    "\n",
    "    @property\n",
    "    def velocidad_maxima(self):\n",
    "        return self._vehiculo.velocidad_maxima\n",
    "\n",
    "    def acelerar(self):\n",
    "        self._vehiculo.acelerar()\n",
    "\n",
    "    def frenar(self):\n",
    "        self._vehiculo.frenar()\n",
    "\n",
    "    def informar_estado(self):\n",
    "        self._vehiculo.informar_estado()\n",
    "\n",
    "class PilotoAutomaticoDecorator(VehiculoDecorator):\n",
    "    def informar_estado(self):\n",
    "        print(\"[Piloto Automático] \", end=\"\")\n",
    "        super().informar_estado()\n",
    "\n",
    "class AsistenteEstacionamientoDecorator(VehiculoDecorator):\n",
    "    def estacionar(self):\n",
    "        self._vehiculo.frenar()\n",
    "        print(f\"Vehículo {self._vehiculo._id} estacionado automáticamente\")"
   ],
   "id": "fde0a219bf53e23e",
   "outputs": [],
   "execution_count": 39
  },
  {
   "metadata": {},
   "cell_type": "markdown",
   "source": "SINGLETON",
   "id": "5f4d737707de1556"
  },
  {
   "metadata": {
    "ExecuteTime": {
     "end_time": "2025-05-03T19:53:45.363158Z",
     "start_time": "2025-05-03T19:53:45.357666Z"
    }
   },
   "cell_type": "code",
   "source": [
    "class ControlDeFlota:\n",
    "    _instancia = None\n",
    "\n",
    "    def __new__(cls):\n",
    "        if not cls._instancia:\n",
    "            cls._instancia = super().__new__(cls)\n",
    "            cls._instancia.vehiculos = []\n",
    "        return cls._instancia\n",
    "\n",
    "    def __add__(self, vehiculo):\n",
    "        self.vehiculos.append(vehiculo)\n",
    "        return self\n",
    "\n",
    "    def mostrar_flota(self):\n",
    "        print(\"\\n--- Vehículos en flota ---\")\n",
    "        for vehiculo in self.vehiculos:\n",
    "            vehiculo.informar_estado()"
   ],
   "id": "9229746b92c19579",
   "outputs": [],
   "execution_count": 40
  },
  {
   "metadata": {},
   "cell_type": "markdown",
   "source": "Código de prueba",
   "id": "7f50f273d0802e77"
  },
  {
   "metadata": {
    "ExecuteTime": {
     "end_time": "2025-05-03T19:53:45.385893Z",
     "start_time": "2025-05-03T19:53:45.377031Z"
    }
   },
   "cell_type": "code",
   "source": [
    "if __name__ == \"__main__\":\n",
    "    # Creación de vehículos\n",
    "    auto_base = Automovil(\"A-001\", \"Tesla Model S\", 250, 500)\n",
    "    camion_base = Camion(\"C-001\", \"Volvo FH16\", 120, 5000)\n",
    "    moto_base = Motocicleta(\"M-001\", \"Harley Davidson\", 180, 150)\n",
    "\n",
    "    # Aplicación de decoradores\n",
    "    auto_decorado = PilotoAutomaticoDecorator(auto_base)\n",
    "    camion_decorado = AsistenteEstacionamientoDecorator(camion_base)\n",
    "\n",
    "    # Configuración de estrategias\n",
    "    auto_base.set_estrategia(ConduccionDeportiva())\n",
    "    camion_base.set_estrategia(ConduccionEconomica())\n",
    "    moto_base.set_estrategia(ConduccionEconomica())\n",
    "\n",
    "    # Configuración de flota\n",
    "    flota = ControlDeFlota()\n",
    "    flota + auto_decorado + camion_decorado + moto_base\n",
    "\n",
    "    # Simulación de conducción\n",
    "    print(\"\\n--- Primera iteración de estrategias ---\")\n",
    "    auto_base.ejecutar_estrategia()\n",
    "    camion_base.ejecutar_estrategia()\n",
    "    moto_base.ejecutar_estrategia()\n",
    "\n",
    "    print(\"\\n--- Segunda iteración de estrategias ---\")\n",
    "    auto_base.ejecutar_estrategia()\n",
    "    camion_base.ejecutar_estrategia()\n",
    "\n",
    "    # Maniobras especiales\n",
    "    print(\"\\n--- Maniobras especiales ---\")\n",
    "    camion_base.engranar_remolque()\n",
    "    moto_base.realizar_maniobra_evasiva()\n",
    "\n",
    "    # Uso de asistente estacionamiento\n",
    "    print(\"\\n--- Asistente estacionamiento ---\")\n",
    "    camion_decorado.estacionar()\n",
    "\n",
    "    # Mostrar estado final\n",
    "    print(\"\\n--- Estado final de la flota ---\")\n",
    "    flota.mostrar_flota()\n",
    "\n",
    "    # Prueba de igualdad\n",
    "    otro_auto = Automovil(\"A-002\", \"Tesla Model S\", 250, 500)\n",
    "    print(f\"\\n¿Autos iguales? {auto_base == otro_auto}\")\n",
    "    print(f\"¿Auto igual a camión? {auto_base == camion_base}\")\n",
    "\n",
    "    # Prueba Singleton\n",
    "    print(\"\\n--- Prueba Singleton ---\")\n",
    "    otra_flota = ControlDeFlota()\n",
    "    otra_flota.mostrar_flota()\n",
    "\n",
    "\n",
    "\n",
    "    # Imprimir Conducción de emergencia (Reto adicional)\n",
    "    print(\"\\n--- Conducción de emergencia ---\")\n",
    "    auto_base.set_estrategia(ConduccionEmergencia())\n",
    "    auto_base.ejecutar_estrategia()\n"
   ],
   "id": "e59ebd084a69243c",
   "outputs": [
    {
     "name": "stdout",
     "output_type": "stream",
     "text": [
      "\n",
      "--- Primera iteración de estrategias ---\n",
      "\n",
      "--- Segunda iteración de estrategias ---\n",
      "\n",
      "--- Maniobras especiales ---\n",
      "Motocicleta M-001 realiza maniobra evasiva!\n",
      "\n",
      "--- Asistente estacionamiento ---\n",
      "Vehículo C-001 estacionado automáticamente\n",
      "\n",
      "--- Estado final de la flota ---\n",
      "\n",
      "--- Vehículos en flota ---\n",
      "[Piloto Automático] Automóvil A-001: 40 km/h\n",
      "Camión C-001: 1 remolques | 0 km/h\n",
      "Motocicleta M-001: 0 km/h\n",
      "\n",
      "¿Autos iguales? True\n",
      "¿Auto igual a camión? False\n",
      "\n",
      "--- Prueba Singleton ---\n",
      "\n",
      "--- Vehículos en flota ---\n",
      "[Piloto Automático] Automóvil A-001: 40 km/h\n",
      "Camión C-001: 1 remolques | 0 km/h\n",
      "Motocicleta M-001: 0 km/h\n",
      "\n",
      "--- Conducción de emergencia ---\n",
      "[EMERGENCIA] Tesla Model S alcanza 70.0 km/h\n"
     ]
    }
   ],
   "execution_count": 41
  }
 ],
 "metadata": {
  "kernelspec": {
   "display_name": "Python 3",
   "language": "python",
   "name": "python3"
  },
  "language_info": {
   "codemirror_mode": {
    "name": "ipython",
    "version": 2
   },
   "file_extension": ".py",
   "mimetype": "text/x-python",
   "name": "python",
   "nbconvert_exporter": "python",
   "pygments_lexer": "ipython2",
   "version": "2.7.6"
  }
 },
 "nbformat": 4,
 "nbformat_minor": 5
}
